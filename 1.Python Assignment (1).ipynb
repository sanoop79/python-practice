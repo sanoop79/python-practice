{
 "cells": [
  {
   "cell_type": "markdown",
   "metadata": {
    "colab_type": "text",
    "id": "l0ZzOlyxB-kf"
   },
   "source": [
    "<h1>Python: without numpy or sklearn </h1>"
   ]
  },
  {
   "cell_type": "markdown",
   "metadata": {
    "colab_type": "text",
    "id": "C0xO8JV9B-ki"
   },
   "source": [
    "<h3> Q1: Given two matrices please print the product of those two matrices </h3>\n",
    "<pre>\n",
    "\n",
    "Ex 1: A   = [[1 3 4]\n",
    "             [2 5 7]\n",
    "             [5 9 6]]\n",
    "      B   = [[1 0 0]\n",
    "             [0 1 0]\n",
    "             [0 0 1]]\n",
    "      A*B = [[1 3 4]\n",
    "             [2 5 7]\n",
    "             [5 9 6]]\n",
    "\n",
    "     \n",
    "Ex 2: A   = [[1 2]\n",
    "             [3 4]]\n",
    "      B   = [[1 2 3 4 5]\n",
    "             [5 6 7 8 9]]\n",
    "      A*B = [[11 14 17 20 23]\n",
    "             [18 24 30 36 42]]\n",
    "             \n",
    "Ex 3: A   = [[1 2]\n",
    "             [3 4]]\n",
    "      B   = [[1 4]\n",
    "             [5 6]\n",
    "             [7 8]\n",
    "             [9 6]]\n",
    "      A*B =Not possible\n",
    "</pre>"
   ]
  },
  {
   "cell_type": "code",
   "execution_count": 5,
   "metadata": {
    "colab": {},
    "colab_type": "code",
    "id": "rnssAfpgB-kj"
   },
   "outputs": [
    {
     "name": "stdout",
     "output_type": "stream",
     "text": [
      "[[11, 14, 19], [38, 47, 61], [65, 80, 103]]\n"
     ]
    }
   ],
   "source": [
    "def matrix_mul(A,B):\n",
    "        result=[[0,0,0],[0,0,0],[0,0,0]]\n",
    "        if(len(A[0])==len(B)):\n",
    "            for i in range(len(A)):\n",
    "                for j in range(len(B[0])):\n",
    "                    for k in range(len(B)):\n",
    "                        result[i][j]+=A[i][k]*B[k][j]\n",
    "        else:\n",
    "            print(\"multiplication not possible\")\n",
    "        print(result)\n",
    "\n",
    "A=[[1,2],[4,5],[7,8]]\n",
    "B=[[7,8,9],[2,3,5]]\n",
    "matrix_mul(A,B)\n",
    "    \n",
    "\n",
    "    \n"
   ]
  },
  {
   "cell_type": "markdown",
   "metadata": {
    "colab_type": "text",
    "id": "at4VwLggB-kn"
   },
   "source": [
    "<h3> Q2: Select a number randomly with probability proportional to its magnitude from the given array of n elements</h3>\n",
    "\n",
    "consider an experiment, selecting an element from the list A randomly with probability proportional to its magnitude.\n",
    "assume we are doing the same experiment for 100 times with replacement, in each experiment you will print a number that is selected randomly from A.\n",
    "\n",
    "<pre>\n",
    "Ex 1: A = [0 5 27 6 13 28 100 45 10 79]\n",
    "let f(x) denote the number of times x getting selected in 100 experiments.\n",
    "f(100) > f(79) > f(45) > f(28) > f(27) > f(13) > f(10) > f(6) > f(5) > f(0)\n",
    "</pre>"
   ]
  },
  {
   "cell_type": "code",
   "execution_count": null,
   "metadata": {
    "colab": {},
    "colab_type": "code",
    "id": "B6S2dpBhB-kn"
   },
   "outputs": [],
   "source": []
  },
  {
   "cell_type": "markdown",
   "metadata": {
    "colab_type": "text",
    "id": "D1xQy2WWB-kq"
   },
   "source": [
    "<h3> Q3: Replace the digits in the string with #</h3>\n",
    "\n",
    "consider a string that will have digits in that, we need to remove all the not digits and replace the digits with #\n",
    "<pre>\n",
    "Ex 1: A = 234                Output: ###\n",
    "Ex 2: A = a2b3c4             Output: ###\n",
    "Ex 3: A = abc                Output:   (empty string)\n",
    "Ex 5: A = #2a$#b%c%561#      Output: ####\n",
    "</pre>"
   ]
  },
  {
   "cell_type": "code",
   "execution_count": 13,
   "metadata": {
    "colab": {},
    "colab_type": "code",
    "id": "fxczi2jzB-kr"
   },
   "outputs": [
    {
     "name": "stdout",
     "output_type": "stream",
     "text": [
      "enter a string:999uu\n",
      "###\n"
     ]
    }
   ],
   "source": [
    "import re\n",
    "\n",
    "def replace_digits(string):\n",
    "    notdigits='[!0-9]'\n",
    "    digits='[0-9]'\n",
    "    for i in string:\n",
    "        newstring = '#' * len(re.sub('\\D', '', string))     #this single line code copied from stack overflow\n",
    "    return(newstring) # modified string which is after replacing the # with digits\n",
    "A=input(\"enter a string:\")\n",
    "B=replace_digits(A)\n",
    "print(B)"
   ]
  },
  {
   "cell_type": "markdown",
   "metadata": {
    "colab_type": "text",
    "id": "j7h0Ywg7B-kw"
   },
   "source": [
    "<h3> Q4: Students marks dashboard</h3>\n",
    "\n",
    "consider the marks list of class students given two lists <br>\n",
    "Students = ['student1','student2','student3','student4','student5','student6','student7','student8','student9','student10'] <br>\n",
    "Marks = [45, 78, 12, 14, 48, 43, 45, 98, 35, 80] <br>\n",
    "from the above two lists the Student[0] got Marks[0],  Student[1] got Marks[1] and so on <br><br>\n",
    "your task is to print the name of students\n",
    "<strong>a. Who got top 5 ranks, in the descending order of marks</strong> <br>\n",
    "<strong>b. Who got least 5 ranks, in the increasing order of marks</strong><br>\n",
    "<strong>d. Who got marks between  &gt;25th percentile &lt;75th percentile, in the increasing order of marks</strong>\n",
    "\n",
    "<pre>\n",
    "Ex 1: \n",
    "Students=['student1','student2','student3','student4','student5','student6','student7','student8','student9','student10'] \n",
    "Marks = [45, 78, 12, 14, 48, 43, 47, 98, 35, 80]\n",
    "a. \n",
    "student8  98\n",
    "student10 80\n",
    "student2  78\n",
    "student5  48\n",
    "student7  47\n",
    "b.\n",
    "student3 12\n",
    "student4 14\n",
    "student9 35\n",
    "student6 43\n",
    "student1 45\n",
    "c.\n",
    "student9 35\n",
    "student6 43\n",
    "student1 45\n",
    "student7 47\n",
    "student5 48\n",
    "</pre>"
   ]
  },
  {
   "cell_type": "code",
   "execution_count": null,
   "metadata": {
    "colab": {},
    "colab_type": "code",
    "id": "cxPJgItsB-kx"
   },
   "outputs": [],
   "source": [
    "# write your python code here\n",
    "# you can take the above example as sample input for your program to test\n",
    "# it should work for any general input try not to hard code for only given input examples\n",
    "\n",
    "# you can free to change all these codes/structure\n",
    "def display_dash_board(students, marks):\n",
    "    res = dict(zip(students,marks))\n",
    "    sorted_names=sorted(res.items(), key = lambda kv:(kv[1], kv[0]),reverse=True)[:5] #this single line code copied from stack ooverfow\n",
    "    sorted_names=list(sorted_names)\n",
    "    print(\"a\\n\")\n",
    "    for name,score in sorted_names:\n",
    "        print(name,score)\n",
    "    least_marks=sorted(res.items(), key = lambda kv:(kv[1], kv[0]))[:5] \n",
    "    print(\"\\n b.\\n\")\n",
    "    for i,j in least_marks:\n",
    "        print(i,j)\n",
    "    for key, value in sorted(res.items(), key=lambda item: item[1]):            \n",
    "          value=int(value)\n",
    "          print(\"C.\\n\")\n",
    "          percentage = (value*100)/100                                        \n",
    "          if 25 < percentage < 75 :\n",
    "            print(\"{} {} {}\".format(key, value, percentage))\n",
    "\n",
    "names=input(\"enter students more than 5: \")\n",
    "students=names.split()\n",
    "marks_of_students=input(\"enter their marks with spaces: \")\n",
    "marks=marks_of_students.split()\n",
    "display_dash_board(students,marks)"
   ]
  },
  {
   "cell_type": "markdown",
   "metadata": {
    "colab_type": "text",
    "id": "qha0OhQHB-k1"
   },
   "source": [
    "<h3> Q5: Find the closest points</h3>\n",
    "\n",
    "consider you have given n data points in the form of list of tuples like S=[(x1,y1),(x2,y2),(x3,y3),(x4,y4),(x5,y5),..,(xn,yn)] and a point P=(p,q) <br> your task is to find 5 closest points(based on cosine distance) in S from P\n",
    "<br>cosine distance between two points (x,y) and (p,q) is defind as $cos^{-1}(\\frac{(x\\cdot p+y\\cdot q)}{\\sqrt(x^2+y^2)\\cdot\\sqrt(p^2+q^2)})$\n",
    "<pre>\n",
    "Ex:\n",
    "\n",
    "S= [(1,2),(3,4),(-1,1),(6,-7),(0, 6),(-5,-8),(-1,-1)(6,0),(1,-1)]\n",
    "P= (3,-4)\n",
    "<img src='https://i.imgur.com/vIFPOcG.jpg', width=300>\n",
    "Output:\n",
    "(6,-7)\n",
    "(1,-1)\n",
    "(6,0)\n",
    "(-5,-8)\n",
    "(-1,-1)\n",
    "</pre>"
   ]
  },
  {
   "cell_type": "code",
   "execution_count": 6,
   "metadata": {
    "colab": {},
    "colab_type": "code",
    "id": "wA5I1g-2B-k2"
   },
   "outputs": [
    {
     "name": "stdout",
     "output_type": "stream",
     "text": [
      "[(1, -1), (6, -7), (-1, -1), (6, 0), (1, 2)]\n"
     ]
    }
   ],
   "source": [
    "import math\n",
    "\n",
    "# write your python code here\n",
    "# you can take the above example as sample input for your program to test\n",
    "# it should work for any general input try not to hard code for only given input.\n",
    "\n",
    "\n",
    "# here S is list of tuples and P is a tuple ot len=2\n",
    "def closest_points_to_p(S, P):\n",
    "    data=S\n",
    "    data.sort(key=lambda x: math.sqrt((float(x[0]) - 3) ** 2 +(float(x[1]) - (-4)) ** 2))\n",
    "    print(data[:5])\n",
    "\n",
    "S= [(1,2),(3,4),(-1,1),(6,-7),(0, 6),(-5,-8),(-1,-1),(6,0),(1,-1)]\n",
    "P= [(3,-4)]\n",
    "closest_points_to_p(S, P) #print the returned values"
   ]
  },
  {
   "cell_type": "markdown",
   "metadata": {
    "colab_type": "text",
    "id": "-g11jeAiB-k5"
   },
   "source": [
    "<h3> Q6: Find Which line separates oranges and apples</h3>\n",
    "consider you have given two set of data points in the form of list of tuples like \n",
    "<pre>\n",
    "Red =[(R11,R12),(R21,R22),(R31,R32),(R41,R42),(R51,R52),..,(Rn1,Rn2)]\n",
    "Blue=[(B11,B12),(B21,B22),(B31,B32),(B41,B42),(B51,B52),..,(Bm1,Bm2)]\n",
    "</pre>\n",
    "and set of line equations(in the string formate, i.e list of strings)\n",
    "<pre>\n",
    "Lines = [a1x+b1y+c1,a2x+b2y+c2,a3x+b3y+c3,a4x+b4y+c4,..,K lines]\n",
    "Note: you need to string parsing here and get the coefficients of x,y and intercept\n",
    "</pre>\n",
    "your task is to for each line that is given print \"YES\"/\"NO\", you will print yes, if all the red points are one side of the line and blue points are other side of the line, otherwise no\n",
    "<pre>\n",
    "Ex:\n",
    "Red= [(1,1),(2,1),(4,2),(2,4), (-1,4)]\n",
    "Blue= [(-2,-1),(-1,-2),(-3,-2),(-3,-1),(1,-3)]\n",
    "Lines=[\"1x+1y+0\",\"1x-1y+0\",\"1x+0y-3\",\"0x+1y-0.5\"]\n",
    "<img src='https://i.imgur.com/DoQf7mE.jpg' width=400>\n",
    "Output:\n",
    "YES\n",
    "NO\n",
    "NO\n",
    "YES\n",
    "</pre>"
   ]
  },
  {
   "cell_type": "code",
   "execution_count": null,
   "metadata": {
    "colab": {},
    "colab_type": "code",
    "id": "eRxExaTRB-k6"
   },
   "outputs": [],
   "source": []
  },
  {
   "cell_type": "markdown",
   "metadata": {
    "colab_type": "text",
    "id": "9OBpURbNB-k9"
   },
   "source": [
    "<h3> Q7: Filling the missing values in the specified formate</h3>\n",
    "You will be given a string with digits and '\\_'(missing value) symbols you have to replace the '\\_' symbols as explained \n",
    "<pre>\n",
    "Ex 1: _, _, _, 24 ==> 24/4, 24/4, 24/4, 24/4 i.e we. have distributed the 24 equally to all 4 places <br>\n",
    "Ex 2: 40, _, _, _, 60 ==> (60+40)/5,(60+40)/5,(60+40)/5,(60+40)/5,(60+40)/5 ==> 20, 20, 20, 20, 20 i.e. the sum of (60+40) is distributed qually to all 5 places<br>\n",
    "Ex 3: 80, _, _, _, _  ==> 80/5,80/5,80/5,80/5,80/5 ==> 16, 16, 16, 16, 16 i.e. the 80 is distributed qually to all 5 missing values that are right to it<br>\n",
    "Ex 4: _, _, 30, _, _, _, 50, _, _  \n",
    "==> we will fill the missing values from left to right \n",
    "    a. first we will distribute the 30 to left two missing values (10, 10, 10, _, _, _, 50, _, _)\n",
    "    b. now distribute the sum (10+50) missing values in between (10, 10, 12, 12, 12, 12, 12, _, _) \n",
    "    c. now we will distribute 12 to right side missing values (10, 10, 12, 12, 12, 12, 4, 4, 4)\n",
    "</pre>\n",
    "for a given string with comma seprate values, which will have both missing values numbers like ex: \"_, _, x, _, _, _\"\n",
    "you need fill the missing values\n",
    "\n",
    "Q: your program reads a string like ex: \"_, _, x, _, _, _\" and returns the filled sequence\n",
    "\n",
    "Ex: \n",
    "<pre>\n",
    "Input1: \"_,_,_,24\"\n",
    "Output1: 6,6,6,6\n",
    "\n",
    "Input2: \"40,_,_,_,60\"\n",
    "Output2: 20,20,20,20,20\n",
    "\n",
    "Input3: \"80,_,_,_,_\"\n",
    "Output3: 16,16,16,16,16\n",
    "\n",
    "Input4: \"_,_,30,_,_,_,50,_,_\"\n",
    "Output4: 10,10,12,12,12,12,4,4,4\n",
    "</pre>\n",
    "\n"
   ]
  },
  {
   "cell_type": "code",
   "execution_count": 65,
   "metadata": {
    "colab": {},
    "colab_type": "code",
    "id": "nZmpzHs_B-k-"
   },
   "outputs": [
    {
     "name": "stdout",
     "output_type": "stream",
     "text": [
      "['_', '_', '_', '40']\n",
      "[10, 10, 10, 10]\n"
     ]
    }
   ],
   "source": [
    "# write your python code here\n",
    "# you can take the above example as sample input for your program to test\n",
    "# it should work for any general input try not to hard code for only given input strings\n",
    "# you can free to change all these codes/structure\n",
    "def curve_smoothing(string):\n",
    "    for a in string:\n",
    "        s=a.split(',')\n",
    "        sum=0\n",
    "        blank=0\n",
    "        end=0\n",
    "        result=[]\n",
    "        count=0\n",
    "        length=len(s)\n",
    "        for i in range(length):\n",
    "            count=count+1\n",
    "            if s[i]=='_':\n",
    "                if(length==i+1):\n",
    "                    end=value=int(end/count)\n",
    "                    for j in range(count):\n",
    "                        result.append(value)\n",
    "                continue\n",
    "            if(i==0 and s[i]!='_'):\n",
    "                end=int(s[i])\n",
    "                continue\n",
    "            else:\n",
    "                end=value=int((int(s[i])+end)/count)\n",
    "                for j in range(count):\n",
    "                    result.append(value)\n",
    "            count=1\n",
    "    print(s)\n",
    "    print(result)            \n",
    "    \n",
    "st=[\"_,_,_,40\"]\n",
    "curve_smoothing(st)"
   ]
  },
  {
   "cell_type": "markdown",
   "metadata": {
    "colab_type": "text",
    "id": "RBz4pzlfB-lB"
   },
   "source": [
    "<h3> Q8: Filling the missing values in the specified formate</h3>\n",
    "You will be given a list of lists, each sublist will be of length 2 i.e. [[x,y],[p,q],[l,m]..[r,s]]\n",
    "consider its like a martrix of n rows and two columns\n",
    "1. the first column F will contain only 5 uniques values (F1, F2, F3, F4, F5)\n",
    "2. the second column S will contain only 3 uniques values (S1, S2, S3)\n",
    "<pre>\n",
    "your task is to find\n",
    "a. Probability of P(F=F1|S==S1), P(F=F1|S==S2), P(F=F1|S==S3)\n",
    "b. Probability of P(F=F2|S==S1), P(F=F2|S==S2), P(F=F2|S==S3)\n",
    "c. Probability of P(F=F3|S==S1), P(F=F3|S==S2), P(F=F3|S==S3)\n",
    "d. Probability of P(F=F4|S==S1), P(F=F4|S==S2), P(F=F4|S==S3)\n",
    "e. Probability of P(F=F5|S==S1), P(F=F5|S==S2), P(F=F5|S==S3)\n",
    "</pre>\n",
    "Ex:\n",
    "\n",
    "<pre>\n",
    "[[F1,S1],[F2,S2],[F3,S3],[F1,S2],[F2,S3],[F3,S2],[F2,S1],[F4,S1],[F4,S3],[F5,S1]]\n",
    "\n",
    "a. P(F=F1|S==S1)=1/2, P(F=F1|S==S2)=1/2, P(F=F1|S==S3)=0/2\n",
    "b. P(F=F2|S==S1)=1/3, P(F=F2|S==S2)=1/3, P(F=F2|S==S3)=1/3\n",
    "c. P(F=F3|S==S1)=0/3, P(F=F3|S==S2)=1/2, P(F=F3|S==S3)=1/2\n",
    "d. P(F=F4|S==S1)=1/2, P(F=F4|S==S2)=0/2, P(F=F4|S==S3)=1/2\n",
    "e. P(F=F5|S==S1)=1/1, P(F=F5|S==S2)=0/1, P(F=F5|S==S3)=0/1\n",
    "</pre>\n",
    "\n"
   ]
  },
  {
   "cell_type": "code",
   "execution_count": 21,
   "metadata": {},
   "outputs": [
    {
     "name": "stdout",
     "output_type": "stream",
     "text": [
      "Probability of P(F=F1|S==S1) 0.25\n",
      "Probability of P(F=F1|S==S2) 0.3333333333333333\n",
      "Probability of P(F=F1|S==S3) 0.0\n"
     ]
    }
   ],
   "source": [
    "dict1={'F1S1':0,'F2S1':0,'F3S1':0,'F4S1':0,'F5S1':0,'F1S2':0,'F2S2':0,'F2S3':0,'F3S2':0,'F4S2':0,'F5S2':0,'F1S3':0,'F2S3':0,'F3S3':0,'F4S3':0,'F5S3':0}\n",
    "dict2={'S1':0,'S2':0,'S3':0}\n",
    "\n",
    "def compute_conditional_probabilities(A):\n",
    "    for i in range(len(A)):\n",
    "        if(A[i][0]=='F1' and A[i][1]=='S1'):\n",
    "            dict1['F1S1']=dict1['F1S1']+1\n",
    "            dict2['S1']=dict2['S1']+1\n",
    "        if(A[i][0]=='F1'and A[i][1]=='S2'):\n",
    "            dict1['F1S2'] = dict1['F1S2'] +1\n",
    "            dict2['S2'] = dict2['S2'] +1\n",
    "        if(A[i][0]=='F1'and A[i][1]=='S3'):\n",
    "            dict1['F1S3'] = dict1['F1S3'] +1\n",
    "            dict2['S3'] = dict2['S3'] +1\n",
    "        if(A[i][0]=='F2'and A[i][1]=='S1'):\n",
    "            dict1['F2S1'] = dict1['F2S1'] +1\n",
    "            dict2['S1'] = dict2['S1'] +1\n",
    "        if(A[i][0]=='F2'and A[i][1]=='S2'):\n",
    "            dict1['F2S2'] = dict1['F2S2'] +1\n",
    "            dict2['S2'] = dict2['S2'] +1\n",
    "        if(A[i][0]=='F2'and A[i][1]=='S3'):\n",
    "            dict1['F2S3'] = dict1['F2S3'] +1\n",
    "            dict2['S3'] = dict2['S3'] +1\n",
    "        if(A[i][0]=='F3'and A[i][1]=='S1'):\n",
    "            dict1['F3S1'] = dict1['F3S1'] +1\n",
    "            dict2['S1'] = dict2['S1'] +1\n",
    "        if(A[i][0]=='F3'and A[i][1]=='S2'):\n",
    "            dict1['F3S2'] = dict1['F3S2'] +1\n",
    "            dict2['S2'] = dict2['S2'] +1\n",
    "        if(A[i][0]=='F3'and A[i][1]=='S3'):\n",
    "            dict1['F3S3'] = dict1['F3S3'] +1\n",
    "            dict2['S3'] = dict2['S3'] +1\n",
    "        if(A[i][0]=='F4'and A[i][1]=='S1'):\n",
    "            dict1['F4S1'] = dict1['F4S1'] +1\n",
    "            dict2['S1'] = dict2['S1'] +1\n",
    "        if(A[i][0]=='F4'and A[i][1]=='S2'):\n",
    "            dict1['F4S2'] = dict1['F4S2'] +1\n",
    "            dict2['S2'] = dict2['S2'] +1\n",
    "        if(A[i][0]=='F4'and A[i][1]=='S3'):\n",
    "            dict1['F4S3'] = dict1['F4S3'] +1\n",
    "            dict2['S3'] = dict2['S3'] +1\n",
    "        if(A[i][0]=='F5'and A[i][1]=='S1'):\n",
    "            dict1['F5S1'] = dict1['F5S1'] +1\n",
    "            dict2['S1'] = dict2['S1'] +1\n",
    "        if(A[i][0]=='F5'and A[i][1]=='S2'):\n",
    "            dict1['F5S2'] = dict1['F5S2'] +1\n",
    "            dict2['S2'] = dict2['S2'] +1\n",
    "        if(A[i][0]=='F5'and A[i][1]=='S3'):\n",
    "            dict1['F5S3'] = dict1['F5S3'] +1\n",
    "            dict2['S3'] = dict2['S3'] +1 \n",
    "    \n",
    "B=[['F1','S1'],['F2','S2'],['F3','S3'],['F1','S2'],['F2','S3'],['F3','S2'],['F2','S1'],['F4','S1'],['F4','S3'],['F5','S1']]\n",
    "\n",
    "compute_conditional_probabilities(B)\n",
    "\n",
    "print('Probability of P(F=F1|S==S1)',(dict1['F1S1']/dict2['S1']))\n",
    "print('Probability of P(F=F1|S==S2)',(dict1['F1S2']/dict2['S2']))\n",
    "print('Probability of P(F=F1|S==S3)',(dict1['F1S3']/dict2['S3']))\n"
   ]
  },
  {
   "cell_type": "markdown",
   "metadata": {
    "colab_type": "text",
    "id": "n4HS87QmB-lF"
   },
   "source": [
    "<h3> Q9: Given two sentances S1, S2</h3>\n",
    "You will be given two sentances S1, S2 your task is to find \n",
    "<pre>\n",
    "a. Number of common words between S1, S2\n",
    "b. Words in S1 but not in S2\n",
    "c. Words in S2 but not in S1\n",
    "</pre>\n",
    "\n",
    "Ex: \n",
    "<pre>\n",
    "S1= \"the first column F will contain only 5 uniques values\"\n",
    "S2= \"the second column S will contain only 3 uniques values\"\n",
    "Output:\n",
    "a. 7\n",
    "b. ['first','F','5']\n",
    "c. ['second','S','3']\n",
    "</pre>"
   ]
  },
  {
   "cell_type": "code",
   "execution_count": 17,
   "metadata": {
    "colab": {},
    "colab_type": "code",
    "id": "Ez7hlHK0B-lG"
   },
   "outputs": [
    {
     "name": "stdout",
     "output_type": "stream",
     "text": [
      "['first', 'F', '5']\n",
      "['second', 'S', '3']\n",
      "7\n"
     ]
    }
   ],
   "source": [
    "# write your python code here\n",
    "# you can take the above example as sample input for your program to test\n",
    "# it should work for any general input try not to hard code for only given input strings\n",
    "\n",
    "# you can free to change all these codes/structure\n",
    "c=[]\n",
    "d=[]\n",
    "def string_features(S1,S2):\n",
    "    count=0\n",
    "    a=S1.split()\n",
    "    b=S2.split()\n",
    "   \n",
    "    for i in a:\n",
    "        for j in b:\n",
    "            if i==j:\n",
    "                count=count+1\n",
    "    for k in a:\n",
    "        if k not in b:\n",
    "            c.append(k)\n",
    "    for l in b:\n",
    "        if l not in a:\n",
    "            d.append(l)\n",
    "    \n",
    "                \n",
    "        \n",
    "    print(c)\n",
    "    print(d)\n",
    "    return count\n",
    "    \n",
    "    \n",
    "S1= \"the first column F will contain only 5 uniques values\"\n",
    "S2= \"the second column S will contain only 3 uniques values\"\n",
    "\n",
    "a = string_features(S1,S2)\n",
    "print(a)\n"
   ]
  },
  {
   "cell_type": "markdown",
   "metadata": {
    "colab_type": "text",
    "id": "XefXVEjCB-lI"
   },
   "source": [
    "<h3> Q10: Given two sentances S1, S2</h3>\n",
    "You will be given a list of lists, each sublist will be of length 2 i.e. [[x,y],[p,q],[l,m]..[r,s]]\n",
    "consider its like a martrix of n rows and two columns\n",
    "\n",
    "a. the first column Y will contain interger values <br>\n",
    "b. the second column $Y_{score}$ will be having float values <br>\n",
    "Your task is to find the value of $f(Y,Y_{score}) = -1*\\frac{1}{n}\\Sigma_{for each Y,Y_{score} pair}(Ylog10(Y_{score})+(1-Y)log10(1-Y_{score}))$ here n is the number of rows in the matrix\n",
    "<pre>\n",
    "Ex:\n",
    "[[1, 0.4], [0, 0.5], [0, 0.9], [0, 0.3], [0, 0.6], [1, 0.1], [1, 0.9], [1, 0.8]]\n",
    "output:\n",
    "0.4243099\n",
    "</pre>\n",
    "$\\frac{-1}{8}\\cdot((1\\cdot log_{10}(0.4)+0\\cdot log_{10}(0.6))+(0\\cdot log_{10}(0.5)+1\\cdot log_{10}(0.5)) + ... + (1\\cdot log_{10}(0.8)+0\\cdot log_{10}(0.2)) )$"
   ]
  },
  {
   "cell_type": "code",
   "execution_count": 20,
   "metadata": {
    "colab": {},
    "colab_type": "code",
    "id": "N9zkagyNB-lJ"
   },
   "outputs": [
    {
     "name": "stdout",
     "output_type": "stream",
     "text": [
      "0.42430993457031635\n"
     ]
    }
   ],
   "source": [
    "# write your python code here\n",
    "# you can take the above example as sample input for your program to test\n",
    "# it should work for any general input try not to hard code for only given input strings\n",
    "\n",
    "\n",
    "# you can free to change all these codes/structure\n",
    "import math\n",
    "def compute_log_loss(A):\n",
    "    b = len(A)\n",
    "    tot = 0\n",
    "    for i,j in A:\n",
    "        tot += ((i*(math.log10(j)))+(((1-i)*(math.log10(1-j)))))\n",
    "        loss = (-1/b)*tot\n",
    "    return loss\n",
    "A = [[1, 0.4], [0, 0.5], [0, 0.9], [0, 0.3], [0, 0.6], [1, 0.1], [1, 0.9], [1,\n",
    "0.8]]\n",
    "loss = compute_log_loss(A)\n",
    "print(loss)"
   ]
  },
  {
   "cell_type": "code",
   "execution_count": null,
   "metadata": {},
   "outputs": [],
   "source": []
  }
 ],
 "metadata": {
  "colab": {
   "collapsed_sections": [],
   "name": "1.Python Assignment.ipynb",
   "provenance": []
  },
  "kernelspec": {
   "display_name": "Python 3",
   "language": "python",
   "name": "python3"
  },
  "language_info": {
   "codemirror_mode": {
    "name": "ipython",
    "version": 3
   },
   "file_extension": ".py",
   "mimetype": "text/x-python",
   "name": "python",
   "nbconvert_exporter": "python",
   "pygments_lexer": "ipython3",
   "version": "3.7.4"
  }
 },
 "nbformat": 4,
 "nbformat_minor": 1
}
