{
 "cells": [
  {
   "cell_type": "code",
   "execution_count": 10,
   "metadata": {},
   "outputs": [
    {
     "name": "stdout",
     "output_type": "stream",
     "text": [
      "enter a number8\n",
      "multiplication table for 8\n",
      "the product of 8 and 1 is 8\n",
      "the product of 8 and 2 is 16\n",
      "the product of 8 and 3 is 24\n",
      "the product of 8 and 4 is 32\n",
      "the product of 8 and 5 is 40\n",
      "the product of 8 and 6 is 48\n",
      "the product of 8 and 7 is 56\n",
      "the product of 8 and 8 is 64\n",
      "the product of 8 and 9 is 72\n",
      "the product of 8 and 10 is 80\n"
     ]
    }
   ],
   "source": [
    "#practice questions on python.\n",
    "#1.write a function that inputs a number and prints the multiplication table of that no\n",
    "def multiply():\n",
    "    a=int(input(\"enter a number\"))\n",
    "    product=1\n",
    "    print(\"multiplication table for {}\".format(a))\n",
    "    for i in range(1,11):\n",
    "        product=a * i\n",
    "        print(\"the product of {} and {} is {}\".format(a,i,product))\n",
    "\n",
    "multiply()\n",
    "     "
   ]
  },
  {
   "cell_type": "code",
   "execution_count": 16,
   "metadata": {},
   "outputs": [],
   "source": [
    "#2question\n",
    "#Write a program to print twin primes less than 1000. If two consecutive odd numbers are\n",
    "#both prime then they are known as twin primes"
   ]
  },
  {
   "cell_type": "code",
   "execution_count": 16,
   "metadata": {},
   "outputs": [
    {
     "name": "stdout",
     "output_type": "stream",
     "text": [
      "[2, 3, 5, 7, 11, 13, 17, 19, 23, 29, 31, 37, 41, 43, 47, 53, 59, 61, 67, 71, 73, 79, 83, 89, 97, 101, 103, 107, 109, 113, 127, 131, 137, 139, 149, 151, 157, 163, 167, 173, 179, 181, 191, 193, 197, 199, 211, 223, 227, 229, 233, 239, 241, 251, 257, 263, 269, 271, 277, 281, 283, 293, 307, 311, 313, 317, 331, 337, 347, 349, 353, 359, 367, 373, 379, 383, 389, 397, 401, 409, 419, 421, 431, 433, 439, 443, 449, 457, 461, 463, 467, 479, 487, 491, 499, 503, 509, 521, 523, 541, 547, 557, 563, 569, 571, 577, 587, 593, 599, 601, 607, 613, 617, 619, 631, 641, 643, 647, 653, 659, 661, 673, 677, 683, 691, 701, 709, 719, 727, 733, 739, 743, 751, 757, 761, 769, 773, 787, 797, 809, 811, 821, 823, 827, 829, 839, 853, 857, 859, 863, 877, 881, 883, 887, 907, 911, 919, 929, 937, 941, 947, 953, 967, 971, 977, 983, 991, 997]\n",
      "twin prime numbers are 7 and 5\n",
      "twin prime numbers are 11 and 7\n",
      "twin prime numbers are 17 and 13\n",
      "twin prime numbers are 23 and 19\n",
      "twin prime numbers are 37 and 31\n",
      "twin prime numbers are 47 and 43\n",
      "twin prime numbers are 67 and 61\n",
      "twin prime numbers are 79 and 73\n",
      "twin prime numbers are 107 and 103\n",
      "twin prime numbers are 113 and 109\n",
      "twin prime numbers are 149 and 139\n",
      "twin prime numbers are 157 and 151\n",
      "twin prime numbers are 191 and 181\n",
      "twin prime numbers are 197 and 193\n",
      "twin prime numbers are 211 and 199\n",
      "twin prime numbers are 233 and 229\n",
      "twin prime numbers are 251 and 241\n",
      "twin prime numbers are 277 and 271\n",
      "twin prime numbers are 293 and 283\n",
      "twin prime numbers are 317 and 313\n",
      "twin prime numbers are 353 and 349\n",
      "twin prime numbers are 431 and 421\n",
      "twin prime numbers are 439 and 433\n",
      "twin prime numbers are 467 and 463\n",
      "twin prime numbers are 541 and 523\n",
      "twin prime numbers are 577 and 571\n",
      "twin prime numbers are 607 and 601\n",
      "twin prime numbers are 631 and 619\n",
      "twin prime numbers are 647 and 643\n",
      "twin prime numbers are 673 and 661\n",
      "twin prime numbers are 821 and 811\n",
      "twin prime numbers are 827 and 823\n",
      "twin prime numbers are 839 and 829\n",
      "twin prime numbers are 863 and 859\n",
      "twin prime numbers are 887 and 883\n"
     ]
    }
   ],
   "source": [
    "def twinprime(start,end):\n",
    "    prime=[]\n",
    "    for num in range(start,end):\n",
    "        for i in range(2,num):\n",
    "            if(num%i==0):\n",
    "                break\n",
    "        else:\n",
    "            prime.append(num)\n",
    "    print(prime)\n",
    "    for j in range(len(prime)):\n",
    "        if(prime[j]-prime[j-1]==2):\n",
    "            print(\"twin prime numbers are {} and {}\".format(prime[j+1],prime[j]))\n",
    "        \n",
    "twinprime(2,1000)"
   ]
  },
  {
   "cell_type": "code",
   "execution_count": 7,
   "metadata": {},
   "outputs": [],
   "source": [
    "#3.prime factors of a number"
   ]
  },
  {
   "cell_type": "code",
   "execution_count": 8,
   "metadata": {},
   "outputs": [],
   "source": [
    "def primefactors(n):\n",
    "    primefactor=[]\n",
    "    i=2\n",
    "    while(i<n):\n",
    "        if(n%i==0):\n",
    "            primefactor.append(i)\n",
    "        i=i+1\n",
    "    #print(\"the prime factors of {} are {}\".format(n,primefactor))\n",
    "primefactors(56)\n",
    "        "
   ]
  },
  {
   "cell_type": "code",
   "execution_count": null,
   "metadata": {},
   "outputs": [],
   "source": [
    "#55. Write a function that converts a decimal number to binary number"
   ]
  },
  {
   "cell_type": "code",
   "execution_count": 4,
   "metadata": {},
   "outputs": [
    {
     "name": "stdout",
     "output_type": "stream",
     "text": [
      "the binary number is:\n",
      "1010"
     ]
    }
   ],
   "source": [
    "def decimals(n):\n",
    "    i=2\n",
    "    binary=[]\n",
    "    while(n>=1):\n",
    "        j=int(n%2)\n",
    "        n=n/2\n",
    "        binary.append(j)\n",
    "    binary.reverse()\n",
    "    print(\"the binary number is:\")\n",
    "    for s in binary:\n",
    "        print(s,end=\"\")\n",
    "\n",
    "decimals(10)"
   ]
  },
  {
   "cell_type": "code",
   "execution_count": 1,
   "metadata": {},
   "outputs": [],
   "source": [
    "#6. Write a function cubesum() that accepts an integer and returns the sum of the cubes of individual digits of that number."
   ]
  },
  {
   "cell_type": "code",
   "execution_count": 3,
   "metadata": {},
   "outputs": [
    {
     "name": "stdout",
     "output_type": "stream",
     "text": [
      "sum of individual digits is 99\n",
      "sum of individual digits is 684\n"
     ]
    }
   ],
   "source": [
    "def cubesum(n):\n",
    "    s=list(map(int,str(n)))\n",
    "    sum=0\n",
    "    for i in s:\n",
    "        sum=sum+(i**3)\n",
    "    print(\"sum of individual digits is {}\".format(sum))\n",
    "cubesum(234)\n",
    "cubesum(567)\n",
    "        "
   ]
  },
  {
   "cell_type": "code",
   "execution_count": 2,
   "metadata": {},
   "outputs": [],
   "source": [
    "#7 Write a function prodDigits() that inputs a number and returns the product of digits of that number."
   ]
  },
  {
   "cell_type": "code",
   "execution_count": 2,
   "metadata": {},
   "outputs": [
    {
     "name": "stdout",
     "output_type": "stream",
     "text": [
      "product of individual digits is 24\n",
      "product of individual digits is 210\n"
     ]
    }
   ],
   "source": [
    "def product(n):\n",
    "    s=list(map(int,str(n)))\n",
    "    product=1\n",
    "    for i in s:\n",
    "        product=product*i\n",
    "    print(\"product of individual digits is {}\".format(product))\n",
    "product(234)\n",
    "product(567)"
   ]
  },
  {
   "cell_type": "code",
   "execution_count": null,
   "metadata": {},
   "outputs": [],
   "source": [
    "#8. If all digits of a number n are multiplied by each other repeating with the product, the one digit number obtained at last is called the multiplicative digital root of n. The number of times digits need to be multiplied to reach one digit is called the multiplicative persistance of n. Example: 86 -> 48 -> 32 -> 6 (MDR 6, MPersistence 3)               341 -> 12->2           (MDR 2, MPersistence 2) Using the function prodDigits() of previous exercise write functions MDR() and MPersistence() that input a number and return its multiplicative digital root and multiplicative persistence respectively\n"
   ]
  },
  {
   "cell_type": "code",
   "execution_count": null,
   "metadata": {},
   "outputs": [],
   "source": [
    "#.multiplicative digital root of a number\n",
    "def mdr(number):\n",
    "    mdr=number\n",
    "    product=1\n",
    "    count=0\n",
    "    s=list(map(int,str(number)))\n",
    "    while (mdr>9)&(number>0):\n",
    "            for i in s:\n",
    "                product=product*i\n",
    "                count+=1\n",
    "    mdr=product\n",
    "    num=product\n",
    "    product=1\n",
    "    return(mdr,count)\n",
    "\n",
    "out=mdr(238)\n",
    "print(out)\n",
    "        \n",
    "            \n",
    "            "
   ]
  },
  {
   "cell_type": "code",
   "execution_count": 10,
   "metadata": {},
   "outputs": [
    {
     "name": "stdout",
     "output_type": "stream",
     "text": [
      "the divisors are [1, 2, 3, 4, 6, 9, 12, 18]\n",
      "the sum of divisors are 55\n"
     ]
    }
   ],
   "source": [
    "#9.sum of proper divisors of a no\n",
    "def sumPdivisors(n):\n",
    "    divisors=[]\n",
    "    sum=0\n",
    "    for i in range(1,n-1):\n",
    "        if(n%i==0):\n",
    "            divisors.append(i)\n",
    "    for j in divisors:\n",
    "        sum=sum+j\n",
    "    print(\"the divisors are {}\".format(divisors))\n",
    "    print(\"the sum of divisors are {}\".format(sum))\n",
    "\n",
    "sumPdivisors(36)"
   ]
  },
  {
   "cell_type": "code",
   "execution_count": 9,
   "metadata": {},
   "outputs": [],
   "source": [
    "#10.Write a program to print all the perfect numbers in a given range"
   ]
  },
  {
   "cell_type": "code",
   "execution_count": 6,
   "metadata": {},
   "outputs": [
    {
     "name": "stdout",
     "output_type": "stream",
     "text": [
      "6 is a perfect number\n",
      "24 is a perfect number\n",
      "28 is a perfect number\n"
     ]
    }
   ],
   "source": [
    "def perfect(start,end):\n",
    "    divisors=[]\n",
    "    i=1\n",
    "    for num in range(start,end+1):\n",
    "        sum=0\n",
    "        for i in range(1,num):\n",
    "            if(num%i==0):\n",
    "                sum=sum+i\n",
    "            if(sum==num):\n",
    "                print(\"{} is a perfect number\".format(num))\n",
    "                sum=0\n",
    "perfect(2,100)"
   ]
  },
  {
   "cell_type": "code",
   "execution_count": null,
   "metadata": {},
   "outputs": [],
   "source": [
    "#11Write a function to print pairs of amicable numbers in a range\n",
    "def perfect(start,end):\n",
    "    divisors=[]\n",
    "    i=1\n",
    "    \n",
    "    for num in range(start,end+1):\n",
    "        sum=0\n",
    "        for i in range(1,num):\n",
    "            if(num%i==0):\n",
    "                sum=sum+i\n",
    "               \n",
    "                \n",
    "perfect(2,100)\n"
   ]
  },
  {
   "cell_type": "code",
   "execution_count": 7,
   "metadata": {},
   "outputs": [
    {
     "name": "stdout",
     "output_type": "stream",
     "text": [
      "1\n",
      "3\n",
      "5\n",
      "7\n"
     ]
    }
   ],
   "source": [
    "#12. Write a program which can filter odd numbers in a list by using filter function\n",
    "def odd(n):\n",
    "    i=2\n",
    "    if(n%i!=0):\n",
    "        return True\n",
    "    else:\n",
    "        return False\n",
    "        \n",
    "n=[1,2,3,4,5,6,7,8]\n",
    "filtered=filter(odd,n)\n",
    "for s in filtered:\n",
    "    print(s)"
   ]
  },
  {
   "cell_type": "code",
   "execution_count": 2,
   "metadata": {},
   "outputs": [],
   "source": [
    "#13Write a program which can map() to make a list whose elements are cube of elements in a given list"
   ]
  },
  {
   "cell_type": "code",
   "execution_count": 3,
   "metadata": {},
   "outputs": [
    {
     "name": "stdout",
     "output_type": "stream",
     "text": [
      "[8, 27, 64, 125]\n"
     ]
    }
   ],
   "source": [
    "def cube(n):\n",
    "    return (n*n*n)\n",
    "\n",
    "numbers=[2,3,4,5]\n",
    "result=map(cube,numbers)\n",
    "print(list(result))"
   ]
  },
  {
   "cell_type": "code",
   "execution_count": null,
   "metadata": {},
   "outputs": [],
   "source": []
  },
  {
   "cell_type": "code",
   "execution_count": null,
   "metadata": {},
   "outputs": [],
   "source": []
  },
  {
   "cell_type": "code",
   "execution_count": null,
   "metadata": {},
   "outputs": [],
   "source": []
  },
  {
   "cell_type": "code",
   "execution_count": null,
   "metadata": {},
   "outputs": [],
   "source": []
  },
  {
   "cell_type": "code",
   "execution_count": null,
   "metadata": {},
   "outputs": [],
   "source": []
  }
 ],
 "metadata": {
  "kernelspec": {
   "display_name": "Python 3",
   "language": "python",
   "name": "python3"
  },
  "language_info": {
   "codemirror_mode": {
    "name": "ipython",
    "version": 3
   },
   "file_extension": ".py",
   "mimetype": "text/x-python",
   "name": "python",
   "nbconvert_exporter": "python",
   "pygments_lexer": "ipython3",
   "version": "3.7.4"
  }
 },
 "nbformat": 4,
 "nbformat_minor": 2
}
